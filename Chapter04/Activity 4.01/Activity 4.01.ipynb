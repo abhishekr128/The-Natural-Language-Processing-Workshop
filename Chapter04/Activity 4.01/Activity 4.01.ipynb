{
 "cells": [
  {
   "cell_type": "markdown",
   "metadata": {},
   "source": [
    "# Activity 1\n",
    "Read the wikipedia page about Rabindranath Tagore. Extract the following information from it: <br>\n",
    "i) List of headings under Section Works <br>\n",
    "ii) List of his Works <br>\n",
    "iii) List of Universities named after him <br>"
   ]
  },
  {
   "cell_type": "code",
   "execution_count": 52,
   "metadata": {},
   "outputs": [],
   "source": [
    "import requests\n",
    "from bs4 import BeautifulSoup"
   ]
  },
  {
   "cell_type": "code",
   "execution_count": 53,
   "metadata": {},
   "outputs": [],
   "source": [
    "r = requests.get('https://en.wikipedia.org/wiki/Rabindranath_Tagore')"
   ]
  },
  {
   "cell_type": "code",
   "execution_count": 54,
   "metadata": {},
   "outputs": [
    {
     "data": {
      "text/plain": [
       "200"
      ]
     },
     "execution_count": 54,
     "metadata": {},
     "output_type": "execute_result"
    }
   ],
   "source": [
    "r.status_code"
   ]
  },
  {
   "cell_type": "code",
   "execution_count": 55,
   "metadata": {},
   "outputs": [],
   "source": [
    "soup = BeautifulSoup(r.text, 'html.parser')"
   ]
  },
  {
   "cell_type": "markdown",
   "metadata": {},
   "source": [
    "# List of headings under Section Works"
   ]
  },
  {
   "cell_type": "code",
   "execution_count": 56,
   "metadata": {},
   "outputs": [
    {
     "name": "stdout",
     "output_type": "stream",
     "text": [
      "Drama\n",
      "Short_stories\n",
      "Novels\n",
      "Poetry\n",
      "Songs_(Rabindra_Sangeet)\n",
      "Art_works\n"
     ]
    }
   ],
   "source": [
    "for element in soup.find_all('h3', limit=6):\n",
    "    spans = element.find('span', attrs={'class':\"mw-headline\"})\n",
    "    print(spans['id'])"
   ]
  },
  {
   "cell_type": "markdown",
   "metadata": {},
   "source": [
    "# Works by Tagore"
   ]
  },
  {
   "cell_type": "code",
   "execution_count": 75,
   "metadata": {},
   "outputs": [
    {
     "name": "stdout",
     "output_type": "stream",
     "text": [
      "ভানুসিংহ ঠাকুরের পদাবলী\n",
      "Bhānusiṃha Ṭhākurer Paḍāvalī\n",
      "Songs of Bhānusiṃha Ṭhākur\n",
      "1884\n",
      "\n",
      "মানসী\n",
      "Manasi\n",
      "The Ideal One\n",
      "1890\n",
      "\n",
      "সোনার তরী\n",
      "Sonar Tari\n",
      "The Golden Boat\n",
      "1894\n",
      "\n",
      "গীতাঞ্জলি\n",
      "Gitanjali\n",
      "Song Offerings\n",
      "1910\n",
      "\n",
      "গীতিমাল্য\n",
      "Gitimalya\n",
      "Wreath of Songs\n",
      "1914\n",
      "\n",
      "বলাকা\n",
      "Balaka\n",
      "The Flight of Cranes\n",
      "1916\n",
      "\n"
     ]
    }
   ],
   "source": [
    "table = soup.find('table', attrs={'class':\"wikitable\"})\n",
    "for row in table.select('tr td'):\n",
    "    print(row.text)"
   ]
  },
  {
   "cell_type": "markdown",
   "metadata": {},
   "source": [
    "# List of Universities named after Tagore"
   ]
  },
  {
   "cell_type": "code",
   "execution_count": 72,
   "metadata": {},
   "outputs": [
    {
     "data": {
      "text/plain": [
       "['Rabindra Bharati University, Kolkata, India.',\n",
       " 'Rabindra University, Sahjadpur, Shirajganj, Bangladesh.[1]',\n",
       " 'Rabindranath Tagore University, Hojai, Assam, India',\n",
       " 'Rabindra Maitree University, Courtpara, Kustia,Bangladesh.[2]',\n",
       " 'Bishwakabi Rabindranath Tagore Hall, Jahangirnagar University, Bangladesh',\n",
       " 'Rabindra Nazrul Art Building, Arts Faculty, Islamic University, Bangladesh',\n",
       " 'Rabindra Library (Central), Assam University, India',\n",
       " 'Rabindra Srijonkala University, Keraniganj, Dhaka, Bangladesh']"
      ]
     },
     "execution_count": 72,
     "metadata": {},
     "output_type": "execute_result"
    }
   ],
   "source": [
    "[each.text.strip() for each in soup.find('ol') if each != '\\n']"
   ]
  }
 ],
 "metadata": {
  "kernelspec": {
   "display_name": "Python 3",
   "language": "python",
   "name": "python3"
  },
  "language_info": {
   "codemirror_mode": {
    "name": "ipython",
    "version": 3
   },
   "file_extension": ".py",
   "mimetype": "text/x-python",
   "name": "python",
   "nbconvert_exporter": "python",
   "pygments_lexer": "ipython3",
   "version": "3.7.4"
  }
 },
 "nbformat": 4,
 "nbformat_minor": 2
}
